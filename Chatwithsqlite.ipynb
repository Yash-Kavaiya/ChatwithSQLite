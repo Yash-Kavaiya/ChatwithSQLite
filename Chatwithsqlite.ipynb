{
 "cells": [
  {
   "cell_type": "code",
   "execution_count": 3,
   "metadata": {},
   "outputs": [
    {
     "name": "stdout",
     "output_type": "stream",
     "text": [
      "sqlite\n",
      "['medals_total']\n"
     ]
    },
    {
     "data": {
      "text/plain": [
       "'[(\\'USA\\', \\'United States\\', \\'United States of America\\', \\'40\\', \\'44\\', \\'42\\', \\'126\\'), (\\'CHN\\', \\'China\\', \"People\\'s Republic of China\", \\'40\\', \\'27\\', \\'24\\', \\'91\\'), (\\'JPN\\', \\'Japan\\', \\'Japan\\', \\'20\\', \\'12\\', \\'13\\', \\'45\\'), (\\'AUS\\', \\'Australia\\', \\'Australia\\', \\'18\\', \\'19\\', \\'16\\', \\'53\\'), (\\'FRA\\', \\'France\\', \\'France\\', \\'16\\', \\'26\\', \\'22\\', \\'64\\'), (\\'NED\\', \\'Netherlands\\', \\'Netherlands\\', \\'15\\', \\'7\\', \\'12\\', \\'34\\'), (\\'GBR\\', \\'Great Britain\\', \\'Great Britain\\', \\'14\\', \\'22\\', \\'29\\', \\'65\\'), (\\'KOR\\', \\'Korea\\', \\'Republic of Korea\\', \\'13\\', \\'9\\', \\'10\\', \\'32\\'), (\\'ITA\\', \\'Italy\\', \\'Italy\\', \\'12\\', \\'13\\', \\'15\\', \\'40\\'), (\\'GER\\', \\'Germany\\', \\'Germany\\', \\'12\\', \\'13\\', \\'8\\', \\'33\\')]'"
      ]
     },
     "execution_count": 3,
     "metadata": {},
     "output_type": "execute_result"
    }
   ],
   "source": [
    "from langchain_community.utilities import SQLDatabase\n",
    "\n",
    "db = SQLDatabase.from_uri(\"sqlite:///olympics.db\")\n",
    "print(db.dialect)\n",
    "print(db.get_usable_table_names())\n",
    "db.run(\"SELECT * FROM medals_total LIMIT 10;\")"
   ]
  },
  {
   "cell_type": "code",
   "execution_count": 4,
   "metadata": {},
   "outputs": [],
   "source": [
    "import os\n",
    "os.environ[\"OPENAI_API_KEY\"] = os.environ[\"GITHUB_TOKEN\"]\n"
   ]
  },
  {
   "cell_type": "code",
   "execution_count": null,
   "metadata": {},
   "outputs": [],
   "source": [
    "from operator import itemgetter\n",
    "\n",
    "from langchain_core.output_parsers import StrOutputParser\n",
    "from langchain_core.prompts import PromptTemplate\n",
    "from langchain_core.runnables import RunnablePassthrough\n",
    "\n",
    "answer_prompt = PromptTemplate.from_template(\n",
    "    \"\"\"Given the following user question, corresponding SQL query, and SQL result, answer the user question.\n",
    "\n",
    "Question: {question}\n",
    "SQL Query: {query}\n",
    "SQL Result: {result}\n",
    "Answer: \"\"\"\n",
    ")\n",
    "\n",
    "answer = answer_prompt | llm | StrOutputParser()\n",
    "chain = (\n",
    "    RunnablePassthrough.assign(query=write_query).assign(\n",
    "        result=itemgetter(\"query\") | execute_query\n",
    "    )\n",
    "    | answer\n",
    ")\n",
    "\n",
    "chain.invoke({\"question\": \"How many employees are there\"})"
   ]
  },
  {
   "cell_type": "code",
   "execution_count": null,
   "metadata": {},
   "outputs": [],
   "source": [
    "from langchain_community.tools.sql_database.tool import QuerySQLDataBaseTool\n",
    "\n",
    "execute_query = QuerySQLDataBaseTool(db=db)\n",
    "write_query = create_sql_query_chain(llm, db)\n",
    "chain = write_query | execute_query\n",
    "chain.invoke({\"question\": \"How many employees are there\"})"
   ]
  }
 ],
 "metadata": {
  "kernelspec": {
   "display_name": "Python 3",
   "language": "python",
   "name": "python3"
  },
  "language_info": {
   "codemirror_mode": {
    "name": "ipython",
    "version": 3
   },
   "file_extension": ".py",
   "mimetype": "text/x-python",
   "name": "python",
   "nbconvert_exporter": "python",
   "pygments_lexer": "ipython3",
   "version": "3.12.1"
  }
 },
 "nbformat": 4,
 "nbformat_minor": 2
}
